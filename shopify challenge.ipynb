{
  "nbformat": 4,
  "nbformat_minor": 0,
  "metadata": {
    "colab": {
      "name": "Untitled1.ipynb",
      "provenance": [],
      "collapsed_sections": []
    },
    "kernelspec": {
      "name": "python3",
      "display_name": "Python 3"
    },
    "language_info": {
      "name": "python"
    }
  },
  "cells": [
    {
      "cell_type": "markdown",
      "metadata": {
        "id": "7OnxW9qNAdFG"
      },
      "source": [
        "###Import Data"
      ]
    },
    {
      "cell_type": "code",
      "metadata": {
        "colab": {
          "resources": {
            "http://localhost:8080/nbextensions/google.colab/files.js": {
              "data": "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",
              "ok": true,
              "headers": [
                [
                  "content-type",
                  "application/javascript"
                ]
              ],
              "status": 200,
              "status_text": ""
            }
          },
          "base_uri": "https://localhost:8080/",
          "height": 89
        },
        "id": "gFdc-RAWr9mT",
        "outputId": "7b2a0fb1-0063-4990-dac2-266986053942"
      },
      "source": [
        "#import data into google colab\n",
        "from google.colab import files\n",
        "uploaded = files.upload()\n",
        "for fn in uploaded.keys():\n",
        "  print('User uploaded file \"{name}\" with length {length} bytes'.format(\n",
        "      name=fn, length=len(uploaded[fn])))"
      ],
      "execution_count": 2,
      "outputs": [
        {
          "output_type": "display_data",
          "data": {
            "text/html": [
              "\n",
              "     <input type=\"file\" id=\"files-c20526ef-35d3-4079-b0f9-75da7c121fbb\" name=\"files[]\" multiple disabled\n",
              "        style=\"border:none\" />\n",
              "     <output id=\"result-c20526ef-35d3-4079-b0f9-75da7c121fbb\">\n",
              "      Upload widget is only available when the cell has been executed in the\n",
              "      current browser session. Please rerun this cell to enable.\n",
              "      </output>\n",
              "      <script src=\"/nbextensions/google.colab/files.js\"></script> "
            ],
            "text/plain": [
              "<IPython.core.display.HTML object>"
            ]
          },
          "metadata": {
            "tags": []
          }
        },
        {
          "output_type": "stream",
          "text": [
            "Saving raw_data.csv to raw_data.csv\n",
            "User uploaded file \"raw_data.csv\" with length 230408 bytes\n"
          ],
          "name": "stdout"
        }
      ]
    },
    {
      "cell_type": "code",
      "metadata": {
        "id": "FcuhqCAsBfsd"
      },
      "source": [
        "#import libraries\n",
        "import pandas as pd\n",
        "import numpy as np\n",
        "import seaborn as sns\n",
        "import matplotlib.pyplot as plt\n",
        "\n",
        "data=pd.read_csv('raw_data.csv',header=0,parse_dates=True,infer_datetime_format=True)"
      ],
      "execution_count": 48,
      "outputs": []
    },
    {
      "cell_type": "code",
      "metadata": {
        "colab": {
          "base_uri": "https://localhost:8080/",
          "height": 204
        },
        "id": "0YbZDJ5gsdWp",
        "outputId": "f7551bf0-171e-4d17-8329-7960a51e823f"
      },
      "source": [
        "data.head()"
      ],
      "execution_count": 6,
      "outputs": [
        {
          "output_type": "execute_result",
          "data": {
            "text/html": [
              "<div>\n",
              "<style scoped>\n",
              "    .dataframe tbody tr th:only-of-type {\n",
              "        vertical-align: middle;\n",
              "    }\n",
              "\n",
              "    .dataframe tbody tr th {\n",
              "        vertical-align: top;\n",
              "    }\n",
              "\n",
              "    .dataframe thead th {\n",
              "        text-align: right;\n",
              "    }\n",
              "</style>\n",
              "<table border=\"1\" class=\"dataframe\">\n",
              "  <thead>\n",
              "    <tr style=\"text-align: right;\">\n",
              "      <th></th>\n",
              "      <th>order_id</th>\n",
              "      <th>shop_id</th>\n",
              "      <th>user_id</th>\n",
              "      <th>order_amount</th>\n",
              "      <th>total_items</th>\n",
              "      <th>payment_method</th>\n",
              "      <th>created_at</th>\n",
              "    </tr>\n",
              "  </thead>\n",
              "  <tbody>\n",
              "    <tr>\n",
              "      <th>0</th>\n",
              "      <td>1</td>\n",
              "      <td>53</td>\n",
              "      <td>746</td>\n",
              "      <td>224</td>\n",
              "      <td>2</td>\n",
              "      <td>cash</td>\n",
              "      <td>2017-03-13 12:36:56</td>\n",
              "    </tr>\n",
              "    <tr>\n",
              "      <th>1</th>\n",
              "      <td>2</td>\n",
              "      <td>92</td>\n",
              "      <td>925</td>\n",
              "      <td>90</td>\n",
              "      <td>1</td>\n",
              "      <td>cash</td>\n",
              "      <td>2017-03-03 17:38:52</td>\n",
              "    </tr>\n",
              "    <tr>\n",
              "      <th>2</th>\n",
              "      <td>3</td>\n",
              "      <td>44</td>\n",
              "      <td>861</td>\n",
              "      <td>144</td>\n",
              "      <td>1</td>\n",
              "      <td>cash</td>\n",
              "      <td>2017-03-14 4:23:56</td>\n",
              "    </tr>\n",
              "    <tr>\n",
              "      <th>3</th>\n",
              "      <td>4</td>\n",
              "      <td>18</td>\n",
              "      <td>935</td>\n",
              "      <td>156</td>\n",
              "      <td>1</td>\n",
              "      <td>credit_card</td>\n",
              "      <td>2017-03-26 12:43:37</td>\n",
              "    </tr>\n",
              "    <tr>\n",
              "      <th>4</th>\n",
              "      <td>5</td>\n",
              "      <td>18</td>\n",
              "      <td>883</td>\n",
              "      <td>156</td>\n",
              "      <td>1</td>\n",
              "      <td>credit_card</td>\n",
              "      <td>2017-03-01 4:35:11</td>\n",
              "    </tr>\n",
              "  </tbody>\n",
              "</table>\n",
              "</div>"
            ],
            "text/plain": [
              "   order_id  shop_id  user_id  ...  total_items  payment_method           created_at\n",
              "0         1       53      746  ...            2            cash  2017-03-13 12:36:56\n",
              "1         2       92      925  ...            1            cash  2017-03-03 17:38:52\n",
              "2         3       44      861  ...            1            cash   2017-03-14 4:23:56\n",
              "3         4       18      935  ...            1     credit_card  2017-03-26 12:43:37\n",
              "4         5       18      883  ...            1     credit_card   2017-03-01 4:35:11\n",
              "\n",
              "[5 rows x 7 columns]"
            ]
          },
          "metadata": {
            "tags": []
          },
          "execution_count": 6
        }
      ]
    },
    {
      "cell_type": "markdown",
      "metadata": {
        "id": "F1PL6hVrBocn"
      },
      "source": [
        "###Question 1\n",
        "There are potential ***problematic/invalid*** transactions. To calculate AOV, these invalid transaction should be excluded. In this analysis, a transaction is classified as ***problematic/invalid*** if one of the following criteria are met\n",
        "\n",
        "1.   Total items per order is > 20\n",
        "2.   Unit Price for each item sold >$500.00 (In practice, this limit could be eased based on product/store types, so luxary products could be considered.)\n",
        "\n",
        "Potential criteria(not used in this analysis)\n",
        "4.   Bad shop which involves a certain number of invalid transactions\n",
        "5.   Rain checks/consecutive check out\n",
        "6.   All transaction made by bad buyers (only 607 is bad buyer in this dataset)"
      ]
    },
    {
      "cell_type": "code",
      "metadata": {
        "id": "kvDYIn6wto4R"
      },
      "source": [
        "#setting criteria threshold of invalid transaction\n",
        "max_item=20\n",
        "max_unit_price=500\n",
        "# data['validity']=1 #set initial default value as valid(1)"
      ],
      "execution_count": 51,
      "outputs": []
    },
    {
      "cell_type": "code",
      "metadata": {
        "id": "meNSDzDtzPII"
      },
      "source": [
        "# criteria 1: mark total_item per order > 20 as invalid transaction\n",
        "data['order_validity']=data['total_items'].apply(lambda x: 0 if x>max_item else 1)\n"
      ],
      "execution_count": 52,
      "outputs": []
    },
    {
      "cell_type": "code",
      "metadata": {
        "id": "B2Z5Ak6TzPFz"
      },
      "source": [
        "# criteria 2: mark unit price greater than $500 as invalid transaction\n",
        "data['price_validity']=data.apply(lambda row: 0 if (row.order_amount/row.total_items)>max_unit_price else 1, axis=1)\n"
      ],
      "execution_count": 53,
      "outputs": []
    },
    {
      "cell_type": "code",
      "metadata": {
        "colab": {
          "base_uri": "https://localhost:8080/",
          "height": 0
        },
        "id": "InKdRnJvzPDW",
        "outputId": "0de9621e-3b7b-4128-e4cd-3eb6571e4965"
      },
      "source": [
        "data['validity']=[data['order_validity'][i] and data['price_validity'][i] for i in range(data.shape[0])]\n",
        "print('The number of invalid transactions is: ',data.validity.value_counts()[0])"
      ],
      "execution_count": 54,
      "outputs": [
        {
          "output_type": "stream",
          "text": [
            "The number of invalid transactions is:  63\n"
          ],
          "name": "stdout"
        }
      ]
    },
    {
      "cell_type": "markdown",
      "metadata": {
        "id": "gQC1w7FbArlv"
      },
      "source": [
        "###Metrics to report\n",
        "Valid Transaction\n",
        "\n",
        "\n",
        "> *   Part1: Financial Metrics\n",
        ">>1. Total item sold and total transaction during the period\n",
        ">>2. Average price of a pair of shoes\n",
        ">>3. Seasonality\n",
        "\n",
        "> *   Part2: Shop Metrics\n",
        ">>1. Active shop\n",
        ">>2. Ranking by total sales amount(most profitable shop)\n",
        "\n",
        "> *   Part3: User Metrics\n",
        ">>1. Active user\n",
        ">>2. Payment method analysis\n",
        ">>3. Shopping time analysis\n",
        "\n",
        "\n",
        "Invalid Transaction\n",
        "1. Total sales amount and number of invalid transations\n",
        "2. Number and percentaqge of invalid transactions\n",
        "3. Summary and statistics about bad buyers and bad shop information\n",
        "\n",
        "\n",
        "\n",
        "\n",
        "\n",
        "\n"
      ]
    },
    {
      "cell_type": "code",
      "metadata": {
        "colab": {
          "base_uri": "https://localhost:8080/",
          "height": 330
        },
        "id": "A2OBC2tXzPAn",
        "outputId": "9ab8cc11-5dec-43b5-8897-2240a99747e3"
      },
      "source": [
        "#Part1 metrics\n",
        "#Seasonality\n",
        "data.created_at=pd.to_datetime(data.created_at,format='%Y-%m-%d %H:%M:%S') #format str into datetime\n",
        "data['day_of_week']=data.created_at.dt.dayofweek\n",
        "filtered_data=data[data.validity==1]\n",
        "filtered_data\n",
        "\n",
        "weekly_trend=filtered_data.groupby(by=['day_of_week']).agg({'order_amount':['sum']})\n",
        "weekly_trend.columns=weekly_trend.columns.droplevel(level=[1])\n",
        "weekly_trend.reset_index(inplace=True)\n",
        "weekly_trend.plot(x='day_of_week',y='order_amount')\n",
        "plt.title('Sales by Day of Week')\n",
        "plt.show()\n",
        "\n",
        "\n",
        "#Financial\n",
        "total_item_sold=filtered_data.total_items.sum()\n",
        "total_sales=filtered_data.order_amount.sum()\n",
        "\n",
        "print('total_item_sold: ',total_item_sold)\n",
        "print('total_sales: ',total_sales)"
      ],
      "execution_count": 85,
      "outputs": [
        {
          "output_type": "display_data",
          "data": {
            "image/png": "[encoded data removed]",
            "text/plain": [
              "<Figure size 432x288 with 1 Axes>"
            ]
          },
          "metadata": {
            "tags": [],
            "needs_background": "light"
          }
        },
        {
          "output_type": "stream",
          "text": [
            "total_item_sold:  9848\n",
            "total_sales:  1493840\n"
          ],
          "name": "stdout"
        }
      ]
    },
    {
      "cell_type": "markdown",
      "metadata": {
        "id": "kv9RhSd_VOeF"
      },
      "source": [
        "Part1 Conclusion: There are 9848 pairs of shoes sold in the period with total sales around 1.5 million dollars. \n",
        "From the weekly sales plot, the sales reached a peak on Thursday, and plunged over the weekend."
      ]
    },
    {
      "cell_type": "code",
      "metadata": {
        "colab": {
          "base_uri": "https://localhost:8080/",
          "height": 0
        },
        "id": "aK2KENZBzO9Y",
        "outputId": "06dd8881-1a94-41d0-c7f3-adea442fc014"
      },
      "source": [
        "#Part2 metrics\n",
        "print('# of active shops: ', len(set(filtered_data.shop_id)))\n",
        "\n",
        "sales_ranking=filtered_data.groupby(by=['shop_id']).agg({'order_amount':'sum'})\n",
        "sales_ranking=sales_ranking.sort_values(by='order_amount',ascending=False)\n",
        "top_10_shop=sales_ranking[:10]\n",
        "top_10_shop\n",
        "\n",
        "max_sale, max_shop=sales_ranking.values[0],sales_ranking.index[0]\n",
        "min_sale,min_shop=sales_ranking.values[-1],sales_ranking.index[-1]\n",
        "print(\"Shop_ID {} has the biggest sales at ${}\".format(max_shop, max_sale[0]))\n",
        "print(\"Shop_ID {} has the lowest sales at ${}\".format(min_shop, min_sale[0]))\n",
        "\n"
      ],
      "execution_count": 103,
      "outputs": [
        {
          "output_type": "stream",
          "text": [
            "# of active shops:  99\n",
            "Shop_ID 89 has the biggest sales at $23128\n",
            "Shop_ID 92 has the lowest sales at $6840\n"
          ],
          "name": "stdout"
        }
      ]
    },
    {
      "cell_type": "code",
      "metadata": {
        "colab": {
          "base_uri": "https://localhost:8080/",
          "height": 0
        },
        "id": "c8ocvEiyBiH9",
        "outputId": "7763ca75-1d5c-4ae0-d6a4-1e28a8c668a3"
      },
      "source": [
        "#Part3 metrics\n",
        "\n",
        "#number of active users\n",
        "active_user=len(filtered_data.user_id.unique())\n",
        "\n",
        "#payment methods analysis\n",
        "print('Payment methods:', set(filtered_data.payment_method))\n",
        "payment_chart=filtered_data.groupby(by=['payment_method']).agg({'order_amount':['sum','count']})\n",
        "print(payment_chart)\n",
        "\n",
        "#percentage calculation\n",
        "amount=payment_chart['order_amount']['sum']\n",
        "amount_in_percent=[\"{0:.2f}%\".format(val*100) for val in amount/amount.sum()]\n",
        "dic={'amount':amount.values,'amount in %':amount_in_percent}\n",
        "payment_summary=pd.DataFrame(data=dic,index=payment_chart.index)\n",
        "print(payment_summary)"
      ],
      "execution_count": 148,
      "outputs": [
        {
          "output_type": "stream",
          "text": [
            "Payment methods: {'debit', 'credit_card', 'cash'}\n",
            "               order_amount      \n",
            "                        sum count\n",
            "payment_method                   \n",
            "cash                 469608  1576\n",
            "credit_card          514817  1708\n",
            "debit                509415  1653\n",
            "                amount amount in %\n",
            "payment_method                    \n",
            "cash            469608      31.44%\n",
            "credit_card     514817      34.46%\n",
            "debit           509415      34.10%\n"
          ],
          "name": "stdout"
        }
      ]
    },
    {
      "cell_type": "code",
      "metadata": {
        "colab": {
          "base_uri": "https://localhost:8080/",
          "height": 352
        },
        "id": "pOhmFwvGBiCD",
        "outputId": "f2c35911-075c-42eb-e299-a993aa1a0f41"
      },
      "source": [
        "#shopping time analysis\n",
        "data['created_at_hour']=data['created_at'].dt.hour\n",
        "filtered_data=data[data.validity==1]\n",
        "shopping_time_table=filtered_data.groupby(by='created_at_hour').agg({'user_id':['count']})\n",
        "\n",
        "fig = plt.figure()\n",
        "ax = fig.add_axes([0,0,1,1])\n",
        "hr=[x for x in range(24)]\n",
        "user_number=shopping_time_table['user_id']['count'].values\n",
        "ax.bar(hr,user_number)\n",
        "ax.set_ylabel('Transaction Number')\n",
        "ax.set_title('Transaction by Hour')\n",
        "ax.set_xticks(hr)\n",
        "plt.show()"
      ],
      "execution_count": 178,
      "outputs": [
        {
          "output_type": "display_data",
          "data": {
            "image/png": "[encoded data removed]",
            "text/plain": [
              "<Figure size 432x288 with 1 Axes>"
            ]
          },
          "metadata": {
            "tags": [],
            "needs_background": "light"
          }
        }
      ]
    },
    {
      "cell_type": "markdown",
      "metadata": {
        "id": "Caf0XRR16P48"
      },
      "source": [
        "Part3 Conclusion: \n",
        "There are 3 kinds of payment methods(cash, credit, debit). Payment methods are evenly distributed where each takes more than 30% . \n",
        "No obvious pattern is found on shopping time. Transactions are roughly throught out 24 hours uniformly."
      ]
    },
    {
      "cell_type": "code",
      "metadata": {
        "colab": {
          "base_uri": "https://localhost:8080/",
          "height": 0
        },
        "id": "oFOoOxA9Bh-c",
        "outputId": "afd9eaf3-de1b-402f-d783-f8d348131802"
      },
      "source": [
        "# Invalid transaction\n",
        "invalid_transaction=data[data.validity==0]\n",
        "invalid_number=invalid_transaction.shape[0]\n",
        "invalid_amount=invalid_transaction.order_amount.sum()\n",
        "print('There are {} transactions classified at invalid, total transaction amount involved is ${}'.format(invalid_number, invalid_amount))\n",
        "\n",
        "# collect bad shop and bad buyer into shop_watch_list and user_watch_list\n",
        "shop_watch_list=invalid_transaction.shop_id.unique()\n",
        "user_watch_list=invalid_transaction.user_id.unique()\n",
        "print('shop_watch_list:', shop_watch_list)\n",
        "print('user_watch_list:', user_watch_list)"
      ],
      "execution_count": 181,
      "outputs": [
        {
          "output_type": "stream",
          "text": [
            "There are 63 transactions classified at invalid, total transaction amount involved is $14231800\n",
            "shop_watch_list: [42 78]\n",
            "user_watch_list: [607 990 936 983 967 760 878 800 944 970 775 867 912 812 810 855 709 834\n",
            " 707 935 861 915 962 890 869 814 817 740 910 745 927 928 982 828 766 889\n",
            " 852 946 787 960 756 969 866 997 818 823]\n"
          ],
          "name": "stdout"
        }
      ]
    },
    {
      "cell_type": "code",
      "metadata": {
        "colab": {
          "base_uri": "https://localhost:8080/",
          "height": 352
        },
        "id": "bxNPV6WwBh54",
        "outputId": "3c02e76a-2769-45b7-bc95-d7cb8b248244"
      },
      "source": [
        "#invalid transaction by time\n",
        "shopping_time_invalid=invalid_transaction.groupby(by='created_at_hour').agg({'user_id':['count']})\n",
        "fig = plt.figure()\n",
        "ax = fig.add_axes([0,0,1,1])\n",
        "hr=shopping_time_invalid.index\n",
        "user_number=shopping_time_table['user_id']['count'].values\n",
        "ax.bar(hr, user_number)\n",
        "ax.set_ylabel('INVALID Transaction Number')\n",
        "ax.set_title('INVALID Transaction by Hour')\n",
        "ax.set_xticks(hr)\n",
        "plt.show()"
      ],
      "execution_count": 194,
      "outputs": [
        {
          "output_type": "display_data",
          "data": {
            "image/png": "[encoded data removed]",
            "text/plain": [
              "<Figure size 432x288 with 1 Axes>"
            ]
          },
          "metadata": {
            "tags": [],
            "needs_background": "light"
          }
        }
      ]
    },
    {
      "cell_type": "code",
      "metadata": {
        "colab": {
          "base_uri": "https://localhost:8080/",
          "height": 0
        },
        "id": "82_eNL8HBh3y",
        "outputId": "b979eb30-5b56-4c35-a0e3-2b651e2991c9"
      },
      "source": [
        "#a closer look at invalid transaction around 4am\n",
        "print('involved users(4 a.m.)')\n",
        "print(invalid_transaction[invalid_transaction.created_at_hour==4].user_id.value_counts())\n",
        "\n",
        "print(\" \")\n",
        "print('involved shops(4 a.m.)')\n",
        "print(invalid_transaction[invalid_transaction.created_at_hour==4].shop_id.value_counts())"
      ],
      "execution_count": 202,
      "outputs": [
        {
          "output_type": "stream",
          "text": [
            "involved users(4 a.m.)\n",
            "607    17\n",
            "756     1\n",
            "707     1\n",
            "834     1\n",
            "Name: user_id, dtype: int64\n",
            " \n",
            "involved shops(4 a.m.)\n",
            "42    17\n",
            "78     3\n",
            "Name: shop_id, dtype: int64\n"
          ],
          "name": "stdout"
        }
      ]
    },
    {
      "cell_type": "markdown",
      "metadata": {
        "id": "jpT30XlrCZZA"
      },
      "source": [
        "There are total 63 invalid transactions; the majority(20 cases) happend at around 4 A.M.\n",
        "With a closer look at cases around 4 A.M. , these invalid transactions are mostly created by user_id 17 and shop_id 42."
      ]
    },
    {
      "cell_type": "markdown",
      "metadata": {
        "id": "STErPOCpDoRZ"
      },
      "source": [
        "###Question1C The AOV value"
      ]
    },
    {
      "cell_type": "code",
      "metadata": {
        "colab": {
          "base_uri": "https://localhost:8080/",
          "height": 0
        },
        "id": "IAtMUr4FBh1B",
        "outputId": "4a34f494-788e-4cc0-a302-a1e576f546c6"
      },
      "source": [
        "filtered_data.order_amount.mean()"
      ],
      "execution_count": 209,
      "outputs": [
        {
          "output_type": "execute_result",
          "data": {
            "text/plain": [
              "302.58051448247926"
            ]
          },
          "metadata": {
            "tags": []
          },
          "execution_count": 209
        }
      ]
    },
    {
      "cell_type": "code",
      "metadata": {
        "id": "qErWCTPoBhx4"
      },
      "source": [
        ""
      ],
      "execution_count": null,
      "outputs": []
    },
    {
      "cell_type": "markdown",
      "metadata": {
        "id": "aeONGN61GMJ6"
      },
      "source": [
        "###Question2 SQL Code and Answers"
      ]
    },
    {
      "cell_type": "code",
      "metadata": {
        "id": "vIRiudWJBhu6"
      },
      "source": [
        "1. ANSWER: 54\n",
        "\n",
        "SELECT COUNT(O.OrderID)\n",
        "FROM Orders AS O\n",
        "LEFT JOIN Shippers AS S\n",
        "ON O.ShipperID=S.ShipperID\n",
        "WHERE S.ShipperName=\"Speedy Express\";"
      ],
      "execution_count": null,
      "outputs": []
    },
    {
      "cell_type": "code",
      "metadata": {
        "id": "bpteRzBIBhrl"
      },
      "source": [
        "2 ANSWER: Peacock\n",
        "\n",
        "WITH top_one AS (SELECT EmployeeID, COUNT(EmployeeID) AS order_count\n",
        "FROM Orders\n",
        "GROUP BY EmployeeID\n",
        "ORDER BY order_count DESC\n",
        "LIMIT 1)\n",
        "SELECT LastName\n",
        "FROM top_one\n",
        "LEFT JOIN Employees AS E\n",
        "ON top_one.EmployeeID=E.EmployeeID;\n"
      ],
      "execution_count": null,
      "outputs": []
    },
    {
      "cell_type": "code",
      "metadata": {
        "id": "bJZsIlYFt1yv"
      },
      "source": [
        "3. ANSWER: Boston Crab Meat\n",
        "\n",
        "SELECT Products.ProductName\n",
        "FROM\n",
        "\n",
        "(\n",
        "SELECT OD.ProductID, SUM(OD.Quantity) AS subtotal\n",
        "FROM OrderDetails AS OD\n",
        "WHERE OD.OrderID IN\n",
        "(SELECT O.OrderID \n",
        "FROM Customers AS C\n",
        "JOIN Orders AS O\n",
        "ON C.CustomerID=O.CustomerID\n",
        "WHERE Country='Germany')\n",
        "GROUP BY OD.ProductID\n",
        "ORDER BY subtotal DESC\n",
        "LIMIT 1\n",
        ") AS top_sale_product\n",
        "\n",
        "JOIN Products\n",
        "ON top_sale_product.ProductID=Products.ProductID;"
      ],
      "execution_count": null,
      "outputs": []
    }
  ]
}